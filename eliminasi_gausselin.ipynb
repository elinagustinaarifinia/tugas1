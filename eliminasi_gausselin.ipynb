{
  "nbformat": 4,
  "nbformat_minor": 0,
  "metadata": {
    "colab": {
      "provenance": [],
      "include_colab_link": true
    },
    "kernelspec": {
      "name": "python3",
      "display_name": "Python 3"
    },
    "language_info": {
      "name": "python"
    }
  },
  "cells": [
    {
      "cell_type": "markdown",
      "metadata": {
        "id": "view-in-github",
        "colab_type": "text"
      },
      "source": [
        "<a href=\"https://colab.research.google.com/github/elinagustinaarifinia/tugas1/blob/main/eliminasi_gausselin.ipynb\" target=\"_parent\"><img src=\"https://colab.research.google.com/assets/colab-badge.svg\" alt=\"Open In Colab\"/></a>"
      ]
    },
    {
      "cell_type": "code",
      "execution_count": null,
      "metadata": {
        "id": "C3aJpOzwRswY"
      },
      "outputs": [],
      "source": [
        "SPL = ([[2,3,-1,5],[4,4,-3,3],[-2,3,-1,1]]) #ini matriksnya\n",
        "print(\"Sistem Persamaan Linear matriks adalah \",SPL)\n",
        "#SPL[1][0]= SPL[1][0] - (2*SPL[0][0])\n",
        "#SPL[1][1] = SPL[1][1] - (2*SPL[0][1])\n",
        "#SPL[1][2] = SPL[1][2] - (2*SPL[0][2])\n",
        "#SPL[1][3] = SPL[1][3] - (2*SPL[0][3])\n",
        "\n",
        "for i in range(0, 3):\n",
        "    SPL[1][i] = SPL[1][i] - (2*SPL[0][i])\n",
        "\n",
        "print(SPL[1][0])\n",
        "print(SPL[1][1])\n",
        "print(SPL[1][2])\n",
        "print(SPL[1][3])"
      ]
    },
    {
      "cell_type": "markdown",
      "source": [
        "Kode ini melakukan operasi baris elementer pada matriks augmented SPL untuk menghilangkan elemen tertentu (dalam hal ini, elemen pertama pada baris kedua), sebagai langkah awal menuju bentuk segitiga atas (upper triangular form).\n",
        "\n",
        "1. fungsi kode for i in range(0, 3):\n",
        "    SPL[1][i] = SPL[1][i] - (2 * SPL[0][i])\n",
        "\n",
        "    Menghilangkan elemen pertama (x-komponen) dari baris kedua (SPL[1]) agar menjadi nol.\n",
        "\n",
        "\n",
        "\n",
        "* Setiap elemen dalam baris kedua (SPL[1]) diubah dengan cara mengurangi 2 kali elemen pada baris pertama SPL[0]).\n",
        "* Konstanta 2 diambil karena SPL[1][0]/SPL[0][0]=4/2=2, sehingga SPL[1]=SPL[1]−2⋅SPL[0].\n",
        "\n",
        "* Elemen pertama (SPL[1][0]):\n",
        "SPL[1][0]=4−(2⋅2)=4−4=0\n",
        "Elemen kedua (SPL[1][1]):\n",
        "SPL[1][1]=4−(2⋅3)=4−6=−2\n",
        "Elemen ketiga (SPL[1][2]):\n",
        "SPL[1][2]=−3−(2⋅−1)=−3+2=−1\n",
        "Elemen keempat (SPL[1][3]):\n",
        "SPL[1][3]=3−(2⋅5)=3−10=−7\n",
        "\n",
        "\n",
        "2. fungsi kode print(SPL[1][0])  # Output: 0\n",
        "print(SPL[1][1])  # Output: -2\n",
        "print(SPL[1][2])  # Output: -1\n",
        "print(SPL[1][3])  # Output: -7\n",
        "\n",
        "\n",
        "\n",
        "* Melakukan Operasi Baris Elementer: Menghilangkan elemen pertama pada baris kedua x-komponen) dengan menggunakan baris pertama.\n",
        "* Persiapan Eliminasi Gauss: Ini adalah langkah pertama untuk mengubah matriks menjadi bentuk segitiga atas, sehingga mempermudah penyelesaian sistem persamaan linear.\n",
        "* Efisiensi dengan Loop: Loop digunakan untuk menghindari penulisan manual elemen per elemen.\n",
        "\n",
        "\n",
        "\n",
        "\n",
        "\n",
        "\n",
        "\n",
        "\n",
        "\n",
        "\n",
        "  \n"
      ],
      "metadata": {
        "id": "GaL5njO_b3od"
      }
    },
    {
      "cell_type": "code",
      "source": [
        "SPL = ([[2,3,-1,5],[4,4,-3,3],[-2,3,-1,1]]) #ini matriksnya\n",
        "print(\"Sistem Persamaan Linear matriks adalah \",SPL)\n",
        "#SPL[1][0]= SPL[1][0] - (2*SPL[0][0])\n",
        "#SPL[1][1] = SPL[1][1] - (2*SPL[0][1])\n",
        "#SPL[1][2] = SPL[1][2] - (2*SPL[0][2])\n",
        "#SPL[1][3] = SPL[1][3] - (2*SPL[0][3])\n",
        "\n",
        "for i in range(4):\n",
        "    SPL[1][i] = SPL[1][i] - (2*SPL[0][i])\n",
        "\n",
        "for i in range(4):\n",
        "    SPL[2][i] = SPL[2][i] - (-1*SPL[0][i])\n",
        "\n",
        "for i in range(3):\n",
        "    SPL[2][i+1] = SPL[2][i+1] - (-3*SPL[1][i+1])\n",
        "\n",
        "SPL"
      ],
      "metadata": {
        "colab": {
          "base_uri": "https://localhost:8080/"
        },
        "id": "js9lGSow2LIs",
        "outputId": "6b59003f-6708-4c8e-dfb5-d722307c5ac5"
      },
      "execution_count": 12,
      "outputs": [
        {
          "output_type": "stream",
          "name": "stdout",
          "text": [
            "Sistem Persamaan Linear matriks adalah  [[2, 3, -1, 5], [4, 4, -3, 3], [-2, 3, -1, 1]]\n"
          ]
        },
        {
          "output_type": "execute_result",
          "data": {
            "text/plain": [
              "[[2, 3, -1, 5], [0, -2, -1, -7], [0, 0, -5, -15]]"
            ]
          },
          "metadata": {},
          "execution_count": 12
        }
      ]
    },
    {
      "cell_type": "markdown",
      "source": [
        "1. fungsi kode for i in range(4):\n",
        "    SPL[1][i] = SPL[1][i] - (2 * SPL[0][i])\n",
        "\n",
        "* Tujuan: Menghilangkan elemen pertama (x-komponen) pada baris kedua (SPL[1][0]).\n",
        "* Elemen pada baris kedua (SPL[1]) dikurangi dengan 2 kali elemen pada baris pertama (SPL[0]).\n",
        "* Elemen pada baris kedua (SPL[1]) dikurangi dengan 2 kali elemen pada baris pertama (SPL[0]).\n",
        "\n",
        "2. fungsi kode for i in range(4):\n",
        "    SPL[2][i] = SPL[2][i] - (-1 * SPL[0][i])\n",
        "\n",
        "* Tujuan: Menghilangkan elemen pertama (x-komponen) pada baris ketiga (SPL[2][0]).\n",
        "* Tujuan: Menghilangkan elemen pertama (x-komponen) pada baris ketiga (SPL[2][0]).\n",
        "Elemen pada baris ketiga (SPL[2]) dikurangi dengan -1 kali elemen pada baris pertama (SPL[0]).\n",
        "* Rasio: SPL[2][0]/SPL[0][0]=−2/2=−1.\n",
        "\n",
        "3. fungsi kode for i in range(3):\n",
        "    SPL[2][i+1] = SPL[2][i+1] - (-3 * SPL[1][i+1])\n",
        "\n",
        "* Tujuan: Menghilangkan elemen kedua (y-komponen) pada baris ketiga (SPL[2][1]).\n",
        "* Elemen pada baris ketiga (SPL[2]) dikurangi dengan -3 kali elemen pada baris kedua (SPL[1]).\n",
        "* Rasio: SPL[2][1]/SPL[1][1]=6/−2=−3.\n",
        "\n",
        "\n",
        "\n",
        "\n",
        "\n",
        "\n",
        "\n",
        "\n",
        "\n",
        "\n",
        "\n",
        "\n"
      ],
      "metadata": {
        "id": "c1LtFqKhhaCV"
      }
    },
    {
      "cell_type": "code",
      "source": [
        "\n",
        "SPL[1][1]"
      ],
      "metadata": {
        "id": "ciwrHKDW745H"
      },
      "execution_count": null,
      "outputs": []
    },
    {
      "cell_type": "markdown",
      "source": [
        "1. Mengakses elemen tertentu dari matriks.\n",
        "2. Memungkinkan modifikasi elemen sebagai bagian dari operasi baris elementer dalam metode seperti eliminasi Gauss.\n",
        "3. Mempermudah analisis posisi tertentu di dalam matriks untuk penyelesaian sistem persamaan linear."
      ],
      "metadata": {
        "id": "EEERnzBdlDRj"
      }
    },
    {
      "cell_type": "code",
      "source": [
        "SPL[1][1]"
      ],
      "metadata": {
        "colab": {
          "base_uri": "https://localhost:8080/"
        },
        "id": "mAInAe368reO",
        "outputId": "4b4b5b68-2f42-4a7c-c035-101fa170b8dc"
      },
      "execution_count": 11,
      "outputs": [
        {
          "output_type": "execute_result",
          "data": {
            "text/plain": [
              "-2"
            ]
          },
          "metadata": {},
          "execution_count": 11
        }
      ]
    }
  ]
}