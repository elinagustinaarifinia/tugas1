{
  "nbformat": 4,
  "nbformat_minor": 0,
  "metadata": {
    "colab": {
      "provenance": [],
      "include_colab_link": true
    },
    "kernelspec": {
      "name": "python3",
      "display_name": "Python 3"
    },
    "language_info": {
      "name": "python"
    }
  },
  "cells": [
    {
      "cell_type": "markdown",
      "metadata": {
        "id": "view-in-github",
        "colab_type": "text"
      },
      "source": [
        "<a href=\"https://colab.research.google.com/github/elinagustinaarifinia/tugas1/blob/main/bisectionelin.ipynb\" target=\"_parent\"><img src=\"https://colab.research.google.com/assets/colab-badge.svg\" alt=\"Open In Colab\"/></a>"
      ]
    },
    {
      "cell_type": "code",
      "execution_count": 2,
      "metadata": {
        "id": "2JHVHadOtZcL"
      },
      "outputs": [],
      "source": [
        "import numpy as np"
      ]
    },
    {
      "cell_type": "markdown",
      "source": [
        "* Operasi pada array atau matriks.\n",
        "* Perhitungan matematika, statistik, dan aljabar linear.\n",
        "* Membuat dan memanipulasi data dengan mudah dan cepat.\n",
        "\n",
        "1. import numpy,program akan mendapatkan akses ke seluruh fungsi dan fitur dari library NumPy, seperti operasi array, manipulasi data, aljabar linear, fungsi matematika, statistik, dan lainnya.\n",
        "\n",
        "2. as np  adalah nama lain yang digunakan untuk menyingkat nama library.\n",
        "\n",
        "\n",
        "\n",
        "\n",
        "\n",
        "\n"
      ],
      "metadata": {
        "id": "g82fHYCAtwK-"
      }
    },
    {
      "cell_type": "code",
      "source": [
        "def bisection(f, a, b, tol):\n",
        "\n",
        "    if np.sign(f(a)) == np.sign(f(b)):\n",
        "        raise Exception(\n",
        "         \"tidak bisa\")\n",
        "\n",
        "    m = (a + b)/2\n",
        "\n",
        "    if np.abs(f(m)) < tol:\n",
        "        return m\n",
        "    elif np.sign(f(a)) == np.sign(f(m)):\n",
        "        return bisection(f, m, b, tol)\n",
        "    elif np.sign(f(b)) == np.sign(f(m)):\n",
        "        return bisection(f, a, m, tol)"
      ],
      "metadata": {
        "id": "5_LhaSoZurtu"
      },
      "execution_count": 6,
      "outputs": []
    },
    {
      "cell_type": "markdown",
      "source": [
        "1. Metode bisection adalah teknik numerik untuk menemukan akar fungsi dalam sebuah interval [𝑎,𝑏]\n",
        "Fungsi ini digunakan untuk menyelesaikan persamaan 𝑓(𝑥)=0\n",
        "\n",
        "fungsi bisection def bisection(f,a,b,tol)\n",
        "parameter\n",
        "\n",
        "f: Fungsi yang akan dicari akarnya.\n",
        "a: Batas bawah interval.\n",
        "b: Batas atas interval.\n",
        "tol: Toleransi error, yaitu seberapa dekat akar yang diinginkan.\n",
        "\n",
        "\n",
        "2. fungsi kode if np.sign(f(a)) == np.sign(f(b)):\n",
        "    raise Exception(\"tidak bisa\")\n",
        "\n",
        "* Memeriksa apakah fungsi 𝑓(𝑥)\n",
        " memiliki tanda yang sama pada a dan 𝑏\n",
        "* Jika tanda sama, artinya tidak ada akar dalam interval\n",
        "[a,b], dan program akan menghentikan eksekusi dengan pesan error.  \n",
        "*   Metode bisection hanya bekerja jika f(a) dan f(b) memiliki tanda yang berlawanan\n",
        "(f(a).f(b)<0), yang menunjukkan bahwa ada akar di antara a dan 𝑏\n",
        "\n",
        "3. fungsi kode m = (a + b) / 2 Titik tengah m dihitung untuk membagi interval menjadi dua bagian: [a,m] dan [m,b].\n",
        "\n",
        "4. fungsi kode if np.abs(f(m)) < tol:\n",
        "  return m Jika nilai absolut f(m) kurang dari toleransi error (tol), maka m dianggap sebagai akar dan dikembalikan sebagai hasil.\n",
        "\n",
        "5. elif np.sign(f(a)) == np.sign(f(m)):\n",
        "    return bisection(f, m, b, tol)\n",
        "elif np.sign(f(b)) == np.sign(f(m)):\n",
        "    return bisection(f, a, m, tol)\n",
        "    Fungsi f(m) digunakan untuk menentukan tanda di titik tengah m Tanda f(a) dibandingkan dengan f(m):Jika f(a) dan f(m) memiliki tanda yang sama, maka akar berada di interval [m,b]. Fungsi dipanggil ulang dengan parameter [m,b].Jika f(b) dan f(m) memiliki tanda yang sama, maka akar berada di interval [a,m]. Fungsi dipanggil ulang dengan parameter [a,m].\n",
        "\n",
        "\n",
        "\n",
        "\n",
        "\n",
        "\n"
      ],
      "metadata": {
        "id": "2_C6ZVi4DLhV"
      }
    },
    {
      "cell_type": "code",
      "source": [
        "f = lambda x: x**2 - 2\n",
        "\n",
        "r1 = bisection(f, 0, 2, 0.1)\n",
        "print(\"r1 =\", r1)\n",
        "r01 = bisection(f, 0, 2, 0.01)\n",
        "print(\"r01 =\", r01)\n",
        "\n",
        "print(\"f(r1) =\", f(r1))\n",
        "print(\"f(r01) =\", f(r01))"
      ],
      "metadata": {
        "id": "ncQT2IKYvNBk"
      },
      "execution_count": null,
      "outputs": []
    },
    {
      "cell_type": "markdown",
      "source": [
        "1. funsi kode f = lambda x: x**2 - 2\n",
        "* lambda adalah fungsi anonim (tanpanama) di Python.\n",
        "* Di sini, f(x) didefinisikan sebagai  f(x)=x −2. Fungsi ini mencari akar (nilai x) yang memenuhi f(x)=0, yaitu x^2=2 atau x =\n",
        "akar 2\n",
        "\n",
        "2. fungsi kode r1 = bisection(f, 0, 2, 0 1)\n",
        "print(\"r1 =\", r1)\n",
        "bisection(f, 0, 2, 0.1):\n",
        "* Fungsi bisection dipanggil untuk mencari akar fungsi f(x) dalam interval [0,2].\n",
        "* Toleransi error (tol) ditentukan sebesar 0.1, sehingga hasil akar cukup mendekati dengan deviasi kurang dari 0.1.\n",
        "* Hasilnya disimpan dalam variabel r1, dan nilai r1 dicetak.\n",
        "\n",
        "3. fungsi kode r01 = bisection(f, 0, 2, 0.01)\n",
        "print(\"r01 =\", r01)\n",
        "bisection(f, 0, 2, 0.01)\n",
        "\n",
        "* Fungsi bisection dipanggil kembali dengan toleransi lebih kecil (0.01), menghasilkan nilai akar yang lebih akurat dibandingkan r1.\n",
        "* Hasilnya disimpan dalam variabel r01, dan nilai r01 dicetak.\n",
        "\n",
        "4. print(\"f(r1) =\", f(r1))\n",
        "print(\"f(r01) =\", f(r01))\n",
        "\n",
        "* f(r1): Menghitung nilai fungsi f(x) di titik r1. Jika r1 mendekati akar sebenarnya, maka f(r1) akan mendekati nol.\n",
        "* f(r01): Sama seperti di atas, tetapi dihitung untuk r01, yang memiliki toleransi lebih kecil dan hasilnya lebih mendekati nol.\n",
        "\n",
        "\n",
        "\n",
        "\n",
        "\n",
        "\n",
        "\n",
        "\n",
        "\n",
        "\n",
        "\n",
        "\n"
      ],
      "metadata": {
        "id": "fNUA6pA-M92X"
      }
    },
    {
      "cell_type": "code",
      "source": [],
      "metadata": {
        "id": "4Ue6XuHUMpBC"
      },
      "execution_count": null,
      "outputs": []
    }
  ]
}